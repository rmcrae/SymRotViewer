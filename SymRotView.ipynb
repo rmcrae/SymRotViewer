{
 "cells": [
  {
   "cell_type": "code",
   "execution_count": 1,
   "id": "4b0f959f",
   "metadata": {
    "jupyter": {
     "source_hidden": true
    },
    "tags": []
   },
   "outputs": [],
   "source": [
    "from collections import namedtuple\n",
    "from IPython.display import display, Latex, Math, HTML, Markdown\n",
    "#from pylab import *\n",
    "import ipywidgets as widgets\n",
    "import bqplot.pyplot as plt\n",
    "from bqplot.interacts import BrushSelector\n",
    "from bqplot import Tooltip\n",
    "from ipyfilechooser import FileChooser"
   ]
  },
  {
   "cell_type": "code",
   "execution_count": 2,
   "id": "ff40aeba",
   "metadata": {
    "jupyter": {
     "source_hidden": true
    },
    "tags": []
   },
   "outputs": [],
   "source": [
    "# set up definitions\n",
    "fieldnames = \"\"\"vibration obs diff predicted intensity lowerE upperE J_upper K_upper, L2_upper L_upper\n",
    "J_lower K_lower L2_lower L_lower unc\"\"\"\n",
    "dataline = namedtuple(\"dataline\", fieldnames)"
   ]
  },
  {
   "cell_type": "code",
   "execution_count": 3,
   "id": "ab0fd249",
   "metadata": {
    "jupyter": {
     "source_hidden": true
    },
    "tags": []
   },
   "outputs": [],
   "source": [
    "# extract datafile\n",
    "class CallBackClass:\n",
    "    def __init__(self):\n",
    "        self.return_value = 'Empty'\n",
    "        self.data = {}\n",
    "        self.blockStarts = []\n",
    "        \n",
    "    def callback_func(self, chooser):\n",
    "        filename = chooser.selected\n",
    "        self.return_value = open(filename, 'r').readlines()\n",
    "        # new section\n",
    "        flines = self.return_value\n",
    "        self.blockStarts = blockStarts = []\n",
    "        for n, line in enumerate(flines):\n",
    "            if line.strip().startswith(\"UPPER VIB\"):\n",
    "                blockStarts.append(n-1)\n",
    "        blockStarts.append(len(flines)-7)\n",
    "        \n",
    "        data = {}\n",
    "        for i,n in enumerate(blockStarts[:-1]):\n",
    "            block = flines[n+5: blockStarts[i+1]-3]\n",
    "            vibration = flines[n].strip()\n",
    "            data[vibration] = []\n",
    "            for line in block:\n",
    "                data[vibration].append(dataline(vibration, *line.split()))\n",
    "        self.data = data\n",
    "        sr.initializePlots(data)\n",
    "        \n",
    "cb = CallBackClass()"
   ]
  },
  {
   "cell_type": "code",
   "execution_count": 4,
   "id": "790ff3f2",
   "metadata": {
    "jupyter": {
     "source_hidden": true
    },
    "tags": []
   },
   "outputs": [
    {
     "data": {
      "application/vnd.jupyter.widget-view+json": {
       "model_id": "f6677aa673e04f2c90726e5708cd1a71",
       "version_major": 2,
       "version_minor": 0
      },
      "text/plain": [
       "FileChooser(path='C:\\Users\\rmcrae\\OneDrive - Eastern Washington University\\Rotation 2022\\binder', filename='',…"
      ]
     },
     "metadata": {},
     "output_type": "display_data"
    },
    {
     "ename": "NameError",
     "evalue": "name 'sr' is not defined",
     "output_type": "error",
     "traceback": [
      "Traceback \u001b[1;36m(most recent call last)\u001b[0m:\n",
      "  File \u001b[0;32mC:\\ProgramData\\Anaconda3\\lib\\site-packages\\ipyfilechooser\\filechooser.py:317\u001b[0m in \u001b[0;35m_on_select_click\u001b[0m\n    self._callback(self)\n",
      "\u001b[1;36m  Input \u001b[1;32mIn [3]\u001b[1;36m in \u001b[1;35mcallback_func\u001b[1;36m\u001b[0m\n\u001b[1;33m    sr.initializePlots(data)\u001b[0m\n",
      "\u001b[1;31mNameError\u001b[0m\u001b[1;31m:\u001b[0m name 'sr' is not defined\n"
     ]
    }
   ],
   "source": [
    "fc = FileChooser('.')\n",
    "fc.filter_patern = ['*.txt']\n",
    "fc.title = '<b>Select Symrot Output File</b>'\n",
    "fc.register_callback(cb.callback_func)\n",
    "display(fc)"
   ]
  },
  {
   "cell_type": "code",
   "execution_count": 33,
   "id": "5d79182c",
   "metadata": {
    "jupyter": {
     "source_hidden": true
    },
    "tags": []
   },
   "outputs": [
    {
     "data": {
      "application/vnd.jupyter.widget-view+json": {
       "model_id": "82ef14db16044de1bb719ac3e46397a1",
       "version_major": 2,
       "version_minor": 0
      },
      "text/plain": [
       "Output()"
      ]
     },
     "metadata": {},
     "output_type": "display_data"
    }
   ],
   "source": [
    "widget_container = widgets.Output()\n",
    "\n",
    "class SymRotViewer:\n",
    "    def __init__(self, data=None):\n",
    "        # retain data internally\n",
    "        self.data = data\n",
    "        \n",
    "        # set figure parameters\n",
    "        fig_layout = widgets.Layout(height = \"500px\", width = \"750px\")\n",
    "        self.fig = plt.figure(\"Vibrational Energies\", layout = fig_layout)\n",
    "        plt.clear()\n",
    "        self.markerShapes = ['square', 'circle', 'diamond', 'cross', 'triangle-up', 'triangle-down']\n",
    "        self.markerColors = ['blue','green','cyan', 'magenta', 'gold', 'black', 'orange']\n",
    "        self.plots = {}\n",
    "        \n",
    "        \n",
    "        # set keys and set default vibration to first key:\n",
    "        self.keys = [] if not data else list(data.keys())\n",
    "        #vibration = self.keys[0]\n",
    "        #print(\"Created data set with keys \", self.keys, vibration)\n",
    "        \n",
    "        # initialize output for ToolTips\n",
    "        self.out = widgets.Output()\n",
    "        \n",
    "        # make initial plot\n",
    "        if data: self.initializePlots(data)\n",
    "        self.create_widgets()\n",
    "\n",
    "    def getDataSet(self, key, lowerK = 1, upperK = 1, maxJ = 20):\n",
    "        '''Select data as restricted by being between lowerK and upperK and below\n",
    "           maxJ'''\n",
    "        restrictedData = [item for item in self.data[key] if lowerK <= int(item.K_upper) <= upperK and\n",
    "                         int(item.J_upper) < maxJ]\n",
    "        \n",
    "        x = [int(item.J_upper) for item in restrictedData]\n",
    "        y = [float(item.upperE) for item in restrictedData]\n",
    "        return x, y\n",
    "    \n",
    "    def initializePlots(self, data):\n",
    "        widget_container.clear_output()\n",
    "        plt.clear()\n",
    "        self.data = data\n",
    "        self.keys = list(data.keys())\n",
    "        self.plots = {}\n",
    "        for i, vibration in enumerate(self.keys):\n",
    "            xpoints, ypoints = self.getDataSet(vibration, 8, 11, 20)\n",
    "            #print(f\"for {vibration}, {len(xpoints)} points\")\n",
    "            self.plots[vibration] = plt.scatter(xpoints, ypoints, marker = self.markerShapes[i%6], \n",
    "                                          colors = [self.markerColors[i%7]],\n",
    "                                          stroke = 'black', tooltip = self.out, unhovered_style ={'opacity':0.5},\n",
    "                                          enable_hover = True)\n",
    "            self.plots[vibration].on_hover(self.myToolTip)\n",
    "\n",
    "            _ = plt.ylabel(\"energy (1/cm)\")\n",
    "            _ = plt.xlabel(\"J'\")\n",
    "            self.xlimits = plt.xlim(0, 20)\n",
    "            self.ylimits = plt.ylim(0, 4000)\n",
    "        self.create_widgets()\n",
    "            \n",
    "    def myToolTip(self, item, event):\n",
    "        '''This creates a Tool Tip'''\n",
    "        \n",
    "        # locate the vibrational identity of selected point\n",
    "        for key in self.keys:\n",
    "            if self.plots[key] == item:\n",
    "                break\n",
    "\n",
    "        # find index of energy selected -- gives access to all other attributes\n",
    "        idx = [float(item.upperE) for item in self.data[key]].index(event['data']['y'])\n",
    "        #print(\"index: \", idx)\n",
    "        point = self.data[key][idx]\n",
    "        self.out.clear_output()\n",
    "        with self.out:\n",
    "            label = MakeLabel(point)\n",
    "            #print(key, f\"K = {point.K_upper}\", f\"L = {point.L_upper}\")\n",
    "            display(label)\n",
    "\n",
    "    def update_plot(self, change):\n",
    "        maxJ = self.choose_maxJ.value\n",
    "        for i, key in enumerate(self.keys):\n",
    "            x, y = self.getDataSet(key, self.lowers[i].value, self.uppers[i].value, maxJ)\n",
    "            self.plots[key].x = x\n",
    "            self.plots[key].y = y\n",
    "        self.ylimits.max = None\n",
    "        \n",
    "    def create_widgets(self):\n",
    "        # plot-limit row\n",
    "        lim_layout = widgets.Layout(width = \"150px\")\n",
    "        lim_label = widgets.Label(\"Change limits on J\")\n",
    "        self.choose_minJ = widgets.IntText(value = 0, description = \"min J\", layout = lim_layout)\n",
    "        self.choose_maxJ = widgets.IntText(value = 20, description = \"max J\", layout = lim_layout)\n",
    "        self.btn_reset = widgets.Button(description = \"reset limits\", disabled = True, button_style = 'success')\n",
    "        self.use_zoom = widgets.ToggleButton(value = False, description = \"Zoom\", button_style = 'info', icon='binoculars')\n",
    "        limRow = widgets.HBox([lim_label, self.choose_minJ, self.choose_maxJ, self.btn_reset, self.use_zoom])\n",
    "        # auto rows of widgets:\n",
    "        int_layout = widgets.Layout(width = \"125px\")\n",
    "        lbl_layout = widgets.Layout(width = \"260px\")\n",
    "\n",
    "        self.rows = []\n",
    "        self.labels = []\n",
    "        self.lowers = []\n",
    "        self.uppers = []\n",
    "        self.shows = []\n",
    "        for key in self.keys:\n",
    "            self.labels.append(widgets.Label(key, layout = lbl_layout))\n",
    "            self.lowers.append(widgets.IntText(value = 8, description = \"min K'\", layout = int_layout))\n",
    "            self.uppers.append(widgets.IntText(value = 11, description = \"max K'\", layout = int_layout))\n",
    "            self.shows.append(widgets.Checkbox(value = True, description = \"Show \" , layout = widgets.Layout(width = \"150px\")))\n",
    "            self.rows.append(widgets.HBox([self.labels[-1], self.lowers[-1], self.uppers[-1], self.shows[-1]]))\n",
    "            \n",
    "        \n",
    "        if len(self.keys) > 3:\n",
    "            stack = widgets.Stack(self.rows, selected_index=0)\n",
    "            self.key_drop = widgets.Dropdown(options = self.keys)\n",
    "            widgets.jslink((self.key_drop, 'index'), (stack, 'selected_index'))\n",
    "            selector = widgets.VBox([self.key_drop, stack])\n",
    "\n",
    "\n",
    "        if self.keys:\n",
    "            first_plot = self.plots[self.keys[0]]\n",
    "            self.br_sel = BrushSelector(x_scale = first_plot.scales['x'], \n",
    "                               y_scale = first_plot.scales['y'], marks = [first_plot], color='lightblue')\n",
    "            self.br_sel.observe(self.brush_callback, names = ['brushing'])\n",
    "\n",
    "        for obj in [widget for row in self.rows for widget in row.children]:\n",
    "            obj.observe(self.update_plot, names = 'value')\n",
    "            \n",
    "        self.btnSave = widgets.Button(description = \"save figure\", disabled = False, button_style = 'warning',\n",
    "                        icon = 'download')\n",
    "        self.btnSave.on_click(self.save_fig)\n",
    "\n",
    "        \n",
    "        self.btn_reset.on_click(self.reset_limits)\n",
    "        self.use_zoom.observe(self.toggle_zoom, 'value')\n",
    "\n",
    "        for obj in self.shows:\n",
    "            obj.observe(self.toggle_vis,'value')\n",
    "\n",
    "        for obj in [self.choose_minJ, self.choose_maxJ]:\n",
    "            obj.observe(self.alterLimits, 'value')\n",
    "            obj.observe(self.update_plot, 'value')\n",
    "    \n",
    "        #widget_container.clear_output()\n",
    "        with widget_container:\n",
    "            if len(self.rows) > 3:\n",
    "                display( widgets.VBox([fc, self.fig, limRow, selector, self.btnSave]))\n",
    "            else:\n",
    "                display( widgets.VBox([fc, self.fig, limRow, *self.rows,self.btnSave]))\n",
    "        \n",
    "    def toggle_zoom(self, change):\n",
    "        '''Zoom  button callback'''\n",
    "        if self.use_zoom.value:\n",
    "            self.fig.interaction = self.br_sel\n",
    "            self.use_zoom.description = \"Show Info\"\n",
    "            self.use_zoom.icon = \"info\"\n",
    "        else:\n",
    "            self.fig.interaction = None\n",
    "            self.use_zoom.description = \"Zoom\"\n",
    "            self.use_zoom.icon = \"binoculars\"\n",
    "\n",
    "    def toggle_vis(self, change):\n",
    "        '''toggle visibility of given vibration'''\n",
    "        idx = self.shows.index(change.owner)\n",
    "        key = self.labels[idx].value\n",
    "        self.plots[key].visible = change.new\n",
    "\n",
    "    def alterLimits(self, change):\n",
    "        self.xlimits.min = self.choose_minJ.value\n",
    "        self.xlimits.max = self.choose_maxJ.value\n",
    "\n",
    "    def reset_limits(self, stuff):\n",
    "        '''Reset plot window to match chosen min/max J'''\n",
    "        self.update_plot(\"reset\")\n",
    "        self.alterLimits('reset')\n",
    "\n",
    "    def brush_callback(self, change):\n",
    "        '''Callback function for zooming'''\n",
    "        brushing = self.br_sel.brushing\n",
    "        if not brushing:\n",
    "            sel = self.br_sel.selected\n",
    "            self.xlimits.min = sel[0][0]\n",
    "            self.ylimits.min = sel[0][1]\n",
    "            self.xlimits.max = sel[1][0]\n",
    "            self.ylimits.max = sel[1][1]\n",
    "            self.btn_reset.disabled = False\n",
    "        self.br_sel.selected = None\n",
    "        \n",
    "    def save_fig(self, change):\n",
    "        '''Saves plot in png file'''\n",
    "        \n",
    "        self.fig.save_png(filename = \"vibration.png\")\n",
    "\n",
    "display(widget_container)        \n",
    "sr = SymRotViewer()\n"
   ]
  },
  {
   "cell_type": "code",
   "execution_count": 6,
   "id": "8a23de5a-e0fc-43b7-ad78-5d1e6da93483",
   "metadata": {},
   "outputs": [
    {
     "ename": "KeyError",
     "evalue": "'CD3Br79 v2'",
     "output_type": "error",
     "traceback": [
      "Traceback \u001b[1;36m(most recent call last)\u001b[0m:\n",
      "\u001b[1;36m  Input \u001b[1;32mIn [6]\u001b[1;36m in \u001b[1;35m<cell line: 1>\u001b[1;36m\u001b[0m\n\u001b[1;33m    testSet = sr.data['CD3Br79 v2']\u001b[0m\n",
      "\u001b[1;31mKeyError\u001b[0m\u001b[1;31m:\u001b[0m 'CD3Br79 v2'\n"
     ]
    }
   ],
   "source": [
    "testSet = sr.data['CD3Br79 v2']"
   ]
  },
  {
   "cell_type": "code",
   "execution_count": 7,
   "id": "9c4723e1",
   "metadata": {},
   "outputs": [],
   "source": [
    "testSet = sr.data[sr.keys[0]]"
   ]
  },
  {
   "cell_type": "code",
   "execution_count": 16,
   "id": "d5455fb0",
   "metadata": {},
   "outputs": [
    {
     "data": {
      "text/plain": [
       "dataline(vibration='CD3Br79  v2', obs='1000.0000000*', diff='9.118237', predicted='990.881763', intensity='5.392889', lowerE='0.514665', upperE='991.396427', J_upper='0', K_upper='0', L2_upper='0', L_upper='0', J_lower='1', K_lower='0', L2_lower='0', L_lower='0', unc='0.000300')"
      ]
     },
     "execution_count": 16,
     "metadata": {},
     "output_type": "execute_result"
    }
   ],
   "source": [
    "item = testSet[0]\n",
    "item"
   ]
  },
  {
   "cell_type": "code",
   "execution_count": 32,
   "id": "34e7ce9c",
   "metadata": {},
   "outputs": [
    {
     "data": {
      "application/vnd.jupyter.widget-view+json": {
       "model_id": "7ec8e38aa3494b30af504a8c800f1eda",
       "version_major": 2,
       "version_minor": 0
      },
      "text/plain": [
       "VBox(children=(Label(value='CD3Br79  v2'), HBox(children=(HTML(value=\"<font color='blue'>L' = 0</font>\"), HTML…"
      ]
     },
     "metadata": {},
     "output_type": "display_data"
    }
   ],
   "source": [
    "strL = \"<font color='blue'>L' = {}</font>\"\n",
    "strK = \"<font color='magenta'>K' = {}</font>\"\n",
    "strL2 = \"<font color='green'>L2' = {}</font>\"\n",
    "strVib = \"{}\"\n",
    "def MakeLabel(item):\n",
    "    lblL = widgets.HTML(value = strL.format(item.L_upper))\n",
    "    lblK = widgets.HTML(value = strK.format(item.K_upper))\n",
    "    lblL2 = widgets.HTML(value = strL2.format(item.L2_upper))\n",
    "    lblVib = widgets.Label(value = item.vibration)\n",
    "    row2 = widgets.HBox([lblL, lblK, lblL2])\n",
    "    return widgets.VBox([lblVib, row2])\n",
    "\n",
    "label = MakeLabel(item)\n",
    "display(label)"
   ]
  },
  {
   "cell_type": "code",
   "execution_count": null,
   "id": "7b6a9f05",
   "metadata": {},
   "outputs": [],
   "source": []
  }
 ],
 "metadata": {
  "kernelspec": {
   "display_name": "Python 3 (ipykernel)",
   "language": "python",
   "name": "python3"
  },
  "language_info": {
   "codemirror_mode": {
    "name": "ipython",
    "version": 3
   },
   "file_extension": ".py",
   "mimetype": "text/x-python",
   "name": "python",
   "nbconvert_exporter": "python",
   "pygments_lexer": "ipython3",
   "version": "3.9.12"
  }
 },
 "nbformat": 4,
 "nbformat_minor": 5
}
